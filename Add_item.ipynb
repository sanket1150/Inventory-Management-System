{
 "cells": [
  {
   "cell_type": "code",
   "execution_count": 1,
   "id": "6b8fbe5d",
   "metadata": {},
   "outputs": [],
   "source": [
    "import json\n",
    "import ijson"
   ]
  },
  {
   "cell_type": "code",
   "execution_count": 2,
   "id": "6ede5dc7",
   "metadata": {},
   "outputs": [],
   "source": [
    "\n",
    "\n",
    "\n",
    "with open('record.json') as json_file:\n",
    "    record = json.load(json_file)\n",
    "    \n",
    "rd = open(\"record.json\",\"r\")\n",
    "r = rd.read()\n",
    "rd.close()"
   ]
  },
  {
   "cell_type": "code",
   "execution_count": 3,
   "id": "05fe91cd",
   "metadata": {},
   "outputs": [
    {
     "name": "stdout",
     "output_type": "stream",
     "text": [
      "Enter product id :1041\n",
      "Enter name of product :soya sauce\n",
      "Enter quantity :100\n",
      "Enter actual price(MRP) :100\n",
      "Enter discounted price :80\n",
      "product soya sauce Added succefully\n"
     ]
    }
   ],
   "source": [
    "prod_id            = int(input(\"Enter product id :\"))\n",
    "name               = str(input(\"Enter name of product :\"))\n",
    "Available_Quantity = int(input(\"Enter quantity :\"))\n",
    "MRP                = int(input(\"Enter actual price(MRP) :\"))\n",
    "price              = int(input(\"Enter discounted price :\"))\n",
    "\n",
    "print(\"product\",name,\"Added succefully\")"
   ]
  },
  {
   "cell_type": "code",
   "execution_count": 4,
   "id": "e5f6fcd3",
   "metadata": {},
   "outputs": [],
   "source": [
    "record = json.loads(r)"
   ]
  },
  {
   "cell_type": "code",
   "execution_count": 5,
   "id": "da07613e",
   "metadata": {},
   "outputs": [],
   "source": [
    "record[prod_id] = {\"name\": name , \"Available Quantity\": Available_Quantity , \"MRP.\": MRP , \"price\": price}"
   ]
  },
  {
   "cell_type": "code",
   "execution_count": 6,
   "id": "5f6510f3",
   "metadata": {},
   "outputs": [],
   "source": [
    "js = json.dumps(record)"
   ]
  },
  {
   "cell_type": "code",
   "execution_count": 7,
   "id": "d6d96b3a",
   "metadata": {},
   "outputs": [],
   "source": [
    "fd = open(\"record.json\",\"w\")\n",
    "fd.write(js)\n",
    "fd.close()"
   ]
  },
  {
   "cell_type": "code",
   "execution_count": null,
   "id": "99f83aa6",
   "metadata": {},
   "outputs": [],
   "source": []
  },
  {
   "cell_type": "code",
   "execution_count": null,
   "id": "208df427",
   "metadata": {},
   "outputs": [],
   "source": []
  }
 ],
 "metadata": {
  "kernelspec": {
   "display_name": "Python 3 (ipykernel)",
   "language": "python",
   "name": "python3"
  },
  "language_info": {
   "codemirror_mode": {
    "name": "ipython",
    "version": 3
   },
   "file_extension": ".py",
   "mimetype": "text/x-python",
   "name": "python",
   "nbconvert_exporter": "python",
   "pygments_lexer": "ipython3",
   "version": "3.9.7"
  }
 },
 "nbformat": 4,
 "nbformat_minor": 5
}
